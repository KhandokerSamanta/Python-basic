{
  "nbformat": 4,
  "nbformat_minor": 0,
  "metadata": {
    "colab": {
      "provenance": [],
      "mount_file_id": "1tlO6Kz_lyaHwSCjYdwLPEF6A8V3DXZCB",
      "authorship_tag": "ABX9TyOWBReUEU3+8sqAb/LJrBz+",
      "include_colab_link": true
    },
    "kernelspec": {
      "name": "python3",
      "display_name": "Python 3"
    },
    "language_info": {
      "name": "python"
    }
  },
  "cells": [
    {
      "cell_type": "markdown",
      "metadata": {
        "id": "view-in-github",
        "colab_type": "text"
      },
      "source": [
        "<a href=\"https://colab.research.google.com/github/KhandokerSamanta/Python-basic/blob/main/pi_value.ipynb\" target=\"_parent\"><img src=\"https://colab.research.google.com/assets/colab-badge.svg\" alt=\"Open In Colab\"/></a>"
      ]
    },
    {
      "cell_type": "code",
      "execution_count": null,
      "metadata": {
        "id": "ImgyI3WF450T",
        "colab": {
          "base_uri": "https://localhost:8080/"
        },
        "outputId": "a9b37798-e956-47cc-fcdc-00a5c3bbfc27"
      },
      "outputs": [
        {
          "output_type": "stream",
          "name": "stdout",
          "text": [
            "--2024-11-08 17:27:40--  https://raw.githubusercontent.com/KhandokerSamanta/Python-basic/refs/heads/main/SamantaMathTest.py\n",
            "Resolving raw.githubusercontent.com (raw.githubusercontent.com)... 185.199.108.133, 185.199.109.133, 185.199.110.133, ...\n",
            "Connecting to raw.githubusercontent.com (raw.githubusercontent.com)|185.199.108.133|:443... connected.\n",
            "HTTP request sent, awaiting response... 200 OK\n",
            "Length: 250 [text/plain]\n",
            "Saving to: ‘SamantaMathTest.py’\n",
            "\n",
            "\rSamantaMathTest.py    0%[                    ]       0  --.-KB/s               \rSamantaMathTest.py  100%[===================>]     250  --.-KB/s    in 0s      \n",
            "\n",
            "2024-11-08 17:27:40 (14.2 MB/s) - ‘SamantaMathTest.py’ saved [250/250]\n",
            "\n",
            "Congratulations!! Your desired Pi values have been successfully saved to output.csv!\n",
            "Congratulations!! Your desired Pi values have been successfully saved to output.csv!\n",
            "Congratulations!! Your desired Pi values have been successfully saved to output.csv!\n",
            "Congratulations!! Your desired Pi values have been successfully saved to output.csv!\n",
            "Congratulations!! Your desired Pi values have been successfully saved to output.csv!\n"
          ]
        }
      ],
      "source": [
        "import pandas as pd\n",
        "import sys\n",
        "!wget https://raw.githubusercontent.com/KhandokerSamanta/Python-basic/refs/heads/main/SamantaMathTest.py\n",
        "\n",
        "sys.path.append('/content')\n",
        "\n",
        "import SamantaMathTest as mt\n",
        "\n",
        "df = pd.DataFrame(data, columns=['Values'])\n",
        "df.to_csv('input.csv', index=False)\n",
        "\n",
        "df = pd.read_csv('input.csv')\n",
        "\n",
        "pi_val_list = []\n",
        "\n",
        "for i in df['Values']:\n",
        "  pi_val_list.append(mt.print_pi_to_n_digits(int(i)))\n",
        "\n",
        "  output_df = pd.DataFrame(pi_val_list, columns=[\"PI\"])\n",
        "\n",
        "  output_df.to_csv('output.csv', index=False)\n",
        "\n",
        "  print(\"Congratulations!! Your desired Pi values have been successfully saved to output.csv!\")\n"
      ]
    },
    {
      "cell_type": "code",
      "source": [
        "import pandas as pd\n",
        "import sys\n",
        "!wget https://raw.githubusercontent.com/KhandokerSamanta/Python-basic/refs/heads/main/SamantaMathTest.py\n",
        "\n",
        "sys.path.append('/content')\n",
        "\n",
        "df = pd.read_csv(\"testcsv.csv\")\n",
        "mylist = []\n",
        "\n",
        "for i in df:\n",
        "  mylist.append(int(i))\n",
        "\n",
        "output_df = pd.DataFrame(mylist, columns=[\"PI Val\"])\n",
        "output_df.to_csv('output.csv', index=False)\n"
      ],
      "metadata": {
        "id": "74Z2mL2HNxkX",
        "colab": {
          "base_uri": "https://localhost:8080/"
        },
        "outputId": "179d00e5-6035-40eb-ebcb-298251e5441d"
      },
      "execution_count": null,
      "outputs": [
        {
          "output_type": "stream",
          "name": "stdout",
          "text": [
            "--2024-11-08 16:54:20--  https://raw.githubusercontent.com/KhandokerSamanta/Python-basic/refs/heads/main/SamantaMathTest.py\n",
            "Resolving raw.githubusercontent.com (raw.githubusercontent.com)... 185.199.108.133, 185.199.109.133, 185.199.110.133, ...\n",
            "Connecting to raw.githubusercontent.com (raw.githubusercontent.com)|185.199.108.133|:443... connected.\n",
            "HTTP request sent, awaiting response... 200 OK\n",
            "Length: 250 [text/plain]\n",
            "Saving to: ‘SamantaMathTest.py.1’\n",
            "\n",
            "\rSamantaMathTest.py.   0%[                    ]       0  --.-KB/s               \rSamantaMathTest.py. 100%[===================>]     250  --.-KB/s    in 0s      \n",
            "\n",
            "2024-11-08 16:54:20 (5.04 MB/s) - ‘SamantaMathTest.py.1’ saved [250/250]\n",
            "\n"
          ]
        }
      ]
    },
    {
      "cell_type": "code",
      "source": [],
      "metadata": {
        "id": "moZDdyq3hoII"
      },
      "execution_count": null,
      "outputs": []
    }
  ]
}