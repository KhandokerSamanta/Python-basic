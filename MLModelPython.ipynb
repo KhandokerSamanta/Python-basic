{
  "nbformat": 4,
  "nbformat_minor": 0,
  "metadata": {
    "colab": {
      "provenance": [],
      "authorship_tag": "ABX9TyMn/iMLWMntIePsgMyFrE9R",
      "include_colab_link": true
    },
    "kernelspec": {
      "name": "python3",
      "display_name": "Python 3"
    },
    "language_info": {
      "name": "python"
    }
  },
  "cells": [
    {
      "cell_type": "markdown",
      "metadata": {
        "id": "view-in-github",
        "colab_type": "text"
      },
      "source": [
        "<a href=\"https://colab.research.google.com/github/KhandokerSamanta/Python-basic/blob/main/MLModelPython.ipynb\" target=\"_parent\"><img src=\"https://colab.research.google.com/assets/colab-badge.svg\" alt=\"Open In Colab\"/></a>"
      ]
    },
    {
      "cell_type": "code",
      "source": [
        "# Importing required libraries\n",
        "from sklearn.datasets import load_digits  # Using digits dataset as an example\n",
        "from sklearn.model_selection import train_test_split\n",
        "from sklearn.svm import SVC\n",
        "from sklearn.metrics import classification_report, accuracy_score\n",
        "import pickle\n",
        "\n",
        "# Step 1: Load Dataset\n",
        "digits = load_digits()\n",
        "X = digits.data  # Features\n",
        "y = digits.target  # Labels\n",
        "\n",
        "# Step 2: Split the dataset into training and testing sets\n",
        "X_train, X_test, y_train, y_test = train_test_split(X, y, test_size=0.3, random_state=42)\n",
        "\n",
        "# Step 3: Initialize and train the SVM model\n",
        "model = SVC(kernel='rbf', gamma='scale', random_state=42)  # Using RBF kernel\n",
        "model.fit(X_train, y_train)\n",
        "\n",
        "# Step 4: Test the model and evaluate its performance\n",
        "y_pred = model.predict(X_test)\n",
        "accuracy = accuracy_score(y_test, y_pred)\n",
        "print(f\"Model Accuracy: {accuracy:.2f}\")\n",
        "\n",
        "# Step 5: Display a detailed classification report\n",
        "print(\"\\nClassification Report:\")\n",
        "print(classification_report(y_test, y_pred))\n",
        "\n",
        "# Step 6: Export the trained model using Pickle\n",
        "model_filename = 'svm_digits_model.pkl'\n",
        "with open(model_filename, 'wb') as file:\n",
        "    pickle.dump(model, file)\n",
        "print(f\"Model successfully saved to {model_filename}\")\n",
        "\n",
        "# To Load the Model Later\n",
        "# with open(model_filename, 'rb') as file:\n",
        "#     loaded_model = pickle.load(file)\n",
        "#     print(\"Model loaded successfully\")"
      ],
      "metadata": {
        "colab": {
          "base_uri": "https://localhost:8080/"
        },
        "id": "DURcuV2BGFDr",
        "outputId": "8f99731e-4f8d-4b52-9e2a-47518f25511b"
      },
      "execution_count": 4,
      "outputs": [
        {
          "output_type": "stream",
          "name": "stdout",
          "text": [
            "Model Accuracy: 0.99\n",
            "\n",
            "Classification Report:\n",
            "              precision    recall  f1-score   support\n",
            "\n",
            "           0       1.00      1.00      1.00        53\n",
            "           1       1.00      1.00      1.00        50\n",
            "           2       1.00      1.00      1.00        47\n",
            "           3       0.98      0.98      0.98        54\n",
            "           4       1.00      1.00      1.00        60\n",
            "           5       1.00      0.98      0.99        66\n",
            "           6       0.98      1.00      0.99        53\n",
            "           7       0.98      0.98      0.98        55\n",
            "           8       0.95      0.98      0.97        43\n",
            "           9       0.97      0.95      0.96        59\n",
            "\n",
            "    accuracy                           0.99       540\n",
            "   macro avg       0.99      0.99      0.99       540\n",
            "weighted avg       0.99      0.99      0.99       540\n",
            "\n",
            "Model successfully saved to svm_digits_model.pkl\n"
          ]
        }
      ]
    }
  ]
}