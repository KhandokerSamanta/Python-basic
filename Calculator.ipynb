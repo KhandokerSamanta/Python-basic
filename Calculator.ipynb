{
  "nbformat": 4,
  "nbformat_minor": 0,
  "metadata": {
    "colab": {
      "provenance": []
    },
    "kernelspec": {
      "name": "python3",
      "display_name": "Python 3"
    },
    "language_info": {
      "name": "python"
    }
  },
  "cells": [
    {
      "cell_type": "code",
      "execution_count": 1,
      "metadata": {
        "colab": {
          "base_uri": "https://localhost:8080/"
        },
        "id": "_3y_AgAlZHpV",
        "outputId": "051fc47f-79e4-4604-f415-37031215b477"
      },
      "outputs": [
        {
          "output_type": "stream",
          "name": "stdout",
          "text": [
            "Enter the First Number: 5\n",
            "Enter the Second Number: 7\n",
            "5.0 + 7.0 = \n",
            "12.0\n",
            "5.0 - 7.0 = \n",
            "-2.0\n",
            "5.0 * 7.0 = \n",
            "35.0\n",
            "5.0 / 7.0 = \n",
            "0.7142857142857143\n"
          ]
        }
      ],
      "source": [
        "# Basic Calculations\n",
        "# Calculator Program in Python by using input() and format() functions\n",
        "\n",
        "#Promting input from the user\n",
        "\n",
        "n1 = float(input(\"Enter the First Number: \"))\n",
        "n2 = float(input(\"Enter the Second Number: \"))\n",
        "\n",
        "#addition\n",
        "\n",
        "print(\"{} + {} = \".format(n1, n2))\n",
        "print(n1 + n2)\n",
        "\n",
        "#subtraction\n",
        "\n",
        "print(\"{} - {} = \".format(n1, n2))\n",
        "print(n1 - n2)\n",
        "\n",
        "#multiplication\n",
        "\n",
        "print(\"{} * {} = \".format(n1, n2))\n",
        "print(n1 * n2)\n",
        "\n",
        "#division\n",
        "\n",
        "print(\"{} / {} = \".format(n1, n2))\n",
        "print(n1 / n2)"
      ]
    }
  ]
}